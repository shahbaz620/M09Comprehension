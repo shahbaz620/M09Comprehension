{
 "cells": [
  {
   "cell_type": "code",
   "execution_count": 14,
   "id": "fa177059-f102-40fc-a16a-70a7d4c268c7",
   "metadata": {},
   "outputs": [],
   "source": [
    "l =[1,2,3,4,45,5]\n",
    "l1 =[]\n",
    "for i in l :\n",
    "    l1.append(i**2)\n"
   ]
  },
  {
   "cell_type": "code",
   "execution_count": 15,
   "id": "3b62f328-4f00-4dd7-a6aa-00409fde1887",
   "metadata": {},
   "outputs": [
    {
     "data": {
      "text/plain": [
       "[1, 4, 9, 16, 2025, 25]"
      ]
     },
     "execution_count": 15,
     "metadata": {},
     "output_type": "execute_result"
    }
   ],
   "source": [
    "l1"
   ]
  },
  {
   "cell_type": "code",
   "execution_count": 16,
   "id": "c04dc293-79c1-48a9-bdd8-d10fb64679f6",
   "metadata": {},
   "outputs": [
    {
     "data": {
      "text/plain": [
       "[1, 2, 3, 4, 45, 5]"
      ]
     },
     "execution_count": 16,
     "metadata": {},
     "output_type": "execute_result"
    }
   ],
   "source": [
    "l"
   ]
  },
  {
   "cell_type": "code",
   "execution_count": 17,
   "id": "c3c18d22-56b1-4b4f-8d09-5a035553e1c1",
   "metadata": {},
   "outputs": [
    {
     "data": {
      "text/plain": [
       "[1, 4, 9, 16, 2025, 25]"
      ]
     },
     "execution_count": 17,
     "metadata": {},
     "output_type": "execute_result"
    }
   ],
   "source": [
    "[i**2 for i in l]"
   ]
  },
  {
   "cell_type": "code",
   "execution_count": 11,
   "id": "f401cfdd-de58-48b8-b9eb-2dd7451931fc",
   "metadata": {},
   "outputs": [],
   "source": [
    "l3 = [2,4,6,8,10]"
   ]
  },
  {
   "cell_type": "code",
   "execution_count": 12,
   "id": "09609fea-aa53-4cd0-8d21-7aa15d0ed01f",
   "metadata": {},
   "outputs": [
    {
     "data": {
      "text/plain": [
       "[4, 16, 36, 64, 100]"
      ]
     },
     "execution_count": 12,
     "metadata": {},
     "output_type": "execute_result"
    }
   ],
   "source": [
    "[i**2 for i in l3]"
   ]
  },
  {
   "cell_type": "code",
   "execution_count": 20,
   "id": "3450c3b2-7dd1-48de-aef6-212db6e5f6c8",
   "metadata": {},
   "outputs": [
    {
     "data": {
      "text/plain": [
       "[2, 4]"
      ]
     },
     "execution_count": 20,
     "metadata": {},
     "output_type": "execute_result"
    }
   ],
   "source": [
    "[i for i in l if i %2 ==0]"
   ]
  },
  {
   "cell_type": "code",
   "execution_count": 21,
   "id": "da26d9ad-7e0f-4d46-9e7e-741ebcc3fbc3",
   "metadata": {},
   "outputs": [],
   "source": [
    "l1 = ['sudh','kumar','pwskills','data science master']"
   ]
  },
  {
   "cell_type": "code",
   "execution_count": 22,
   "id": "0fa722a9-9c93-4d71-bc15-65444a744252",
   "metadata": {},
   "outputs": [
    {
     "data": {
      "text/plain": [
       "['SUDH', 'KUMAR', 'PWSKILLS', 'DATA SCIENCE MASTER']"
      ]
     },
     "execution_count": 22,
     "metadata": {},
     "output_type": "execute_result"
    }
   ],
   "source": [
    "[i.upper() for i in l1 ]"
   ]
  },
  {
   "cell_type": "code",
   "execution_count": 23,
   "id": "0a39acc1-89a1-4c83-a967-ff7f174699e1",
   "metadata": {},
   "outputs": [],
   "source": [
    "l2 = ['shahbaz' , ' hozaifa', 'nubaid', 'toquir', 'talha']"
   ]
  },
  {
   "cell_type": "code",
   "execution_count": 24,
   "id": "21755c7e-d625-4c5c-a122-ca6bece50216",
   "metadata": {},
   "outputs": [
    {
     "data": {
      "text/plain": [
       "['SHAHBAZ', ' HOZAIFA', 'NUBAID', 'TOQUIR', 'TALHA']"
      ]
     },
     "execution_count": 24,
     "metadata": {},
     "output_type": "execute_result"
    }
   ],
   "source": [
    "[i.upper() for i in l2]"
   ]
  },
  {
   "cell_type": "code",
   "execution_count": 25,
   "id": "a969586d-bea9-4aa9-af58-a9c613fb1831",
   "metadata": {},
   "outputs": [
    {
     "data": {
      "text/plain": [
       "[1, 2, 3, 4, 45, 5]"
      ]
     },
     "execution_count": 25,
     "metadata": {},
     "output_type": "execute_result"
    }
   ],
   "source": [
    "l"
   ]
  },
  {
   "cell_type": "code",
   "execution_count": 27,
   "id": "ac13a020-12b0-4fd9-bc43-0e85e2603f65",
   "metadata": {},
   "outputs": [
    {
     "data": {
      "text/plain": [
       "[1, 4, 9, 16, 2025, 25]"
      ]
     },
     "execution_count": 27,
     "metadata": {},
     "output_type": "execute_result"
    }
   ],
   "source": [
    "list(i**2 for i in l) "
   ]
  },
  {
   "cell_type": "code",
   "execution_count": 37,
   "id": "036cebad-dbcd-4f22-8a4e-4cf21a2e430a",
   "metadata": {},
   "outputs": [],
   "source": [
    "d = {\"key1\" :1,\"key2\":2,\"key3\":3,\"key4\":4}"
   ]
  },
  {
   "cell_type": "code",
   "execution_count": 40,
   "id": "d6e0cabf-d5f0-4ffb-8512-00218c256745",
   "metadata": {},
   "outputs": [
    {
     "data": {
      "text/plain": [
       "{'key1': 1, 'key2': 2, 'key3': 3, 'key4': 4}"
      ]
     },
     "execution_count": 40,
     "metadata": {},
     "output_type": "execute_result"
    }
   ],
   "source": [
    "d"
   ]
  },
  {
   "cell_type": "code",
   "execution_count": 41,
   "id": "caebee62-e51f-4547-a446-38a4e8b05883",
   "metadata": {},
   "outputs": [
    {
     "data": {
      "text/plain": [
       "{'key1': 1, 'key2': 4, 'key3': 9, 'key4': 16}"
      ]
     },
     "execution_count": 41,
     "metadata": {},
     "output_type": "execute_result"
    }
   ],
   "source": [
    "{k:v**2 for k ,v in d.items()}"
   ]
  },
  {
   "cell_type": "code",
   "execution_count": 38,
   "id": "41819868-bfd7-4f25-933b-30f29a1ec32c",
   "metadata": {},
   "outputs": [
    {
     "data": {
      "text/plain": [
       "dict_items([('key1', 1), ('key2', 2), ('key3', 3), ('key4', 4)])"
      ]
     },
     "execution_count": 38,
     "metadata": {},
     "output_type": "execute_result"
    }
   ],
   "source": [
    "d.items()\n"
   ]
  },
  {
   "cell_type": "code",
   "execution_count": 42,
   "id": "746375bd-9c85-4888-a66d-8b8ff1709efc",
   "metadata": {},
   "outputs": [
    {
     "data": {
      "text/plain": [
       "{'key1': 1, 'key2': 2, 'key3': 3, 'key4': 4}"
      ]
     },
     "execution_count": 42,
     "metadata": {},
     "output_type": "execute_result"
    }
   ],
   "source": [
    "d"
   ]
  },
  {
   "cell_type": "code",
   "execution_count": 51,
   "id": "51598019-31b0-4cba-aeee-545ba8e5169a",
   "metadata": {},
   "outputs": [
    {
     "data": {
      "text/plain": [
       "{'key2': 2, 'key3': 3, 'key4': 4}"
      ]
     },
     "execution_count": 51,
     "metadata": {},
     "output_type": "execute_result"
    }
   ],
   "source": [
    "{k:v  for k ,v  in d.items() if v > 1 }"
   ]
  },
  {
   "cell_type": "code",
   "execution_count": 52,
   "id": "0fa6f1e0-582d-4fc6-a76c-3e1b4d045ab7",
   "metadata": {},
   "outputs": [],
   "source": [
    "d = {\"nubaid\" :1,\"toquir\":2,\"hozaifa\":3,\"shahbaz\":4}"
   ]
  },
  {
   "cell_type": "code",
   "execution_count": 53,
   "id": "c6deed3c-53ef-4885-a3dd-a29df1429232",
   "metadata": {},
   "outputs": [
    {
     "data": {
      "text/plain": [
       "{'nubaid': 1, 'toquir': 2, 'hozaifa': 3, 'shahbaz': 4}"
      ]
     },
     "execution_count": 53,
     "metadata": {},
     "output_type": "execute_result"
    }
   ],
   "source": [
    "d"
   ]
  },
  {
   "cell_type": "code",
   "execution_count": 55,
   "id": "081c87bb-d3f2-4054-905b-68f3fc3270cb",
   "metadata": {},
   "outputs": [
    {
     "data": {
      "text/plain": [
       "dict_items([('nubaid', 1), ('toquir', 2), ('hozaifa', 3), ('shahbaz', 4)])"
      ]
     },
     "execution_count": 55,
     "metadata": {},
     "output_type": "execute_result"
    }
   ],
   "source": [
    "d.items()"
   ]
  },
  {
   "cell_type": "code",
   "execution_count": null,
   "id": "e8ac7f44-5fb6-4063-97ec-b14e739f1494",
   "metadata": {},
   "outputs": [],
   "source": [
    "{k:v for k,v in d.items() if v> 1}"
   ]
  }
 ],
 "metadata": {
  "kernelspec": {
   "display_name": "Python 3 (ipykernel)",
   "language": "python",
   "name": "python3"
  },
  "language_info": {
   "codemirror_mode": {
    "name": "ipython",
    "version": 3
   },
   "file_extension": ".py",
   "mimetype": "text/x-python",
   "name": "python",
   "nbconvert_exporter": "python",
   "pygments_lexer": "ipython3",
   "version": "3.10.8"
  }
 },
 "nbformat": 4,
 "nbformat_minor": 5
}
